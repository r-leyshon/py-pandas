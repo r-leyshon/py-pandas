{
 "cells": [
  {
   "cell_type": "markdown",
   "metadata": {},
   "source": [
    "# Basic Joins\n",
    "\n",
    "## Data Preparation\n",
    "Working with joins, we need 2 DFs, so here I'm taking a tuny known slice from the taxis dataset to play about with."
   ]
  },
  {
   "cell_type": "code",
   "execution_count": 1,
   "metadata": {},
   "outputs": [],
   "source": [
    "import seaborn as sns"
   ]
  },
  {
   "cell_type": "code",
   "execution_count": 15,
   "metadata": {},
   "outputs": [
    {
     "name": "stdout",
     "output_type": "stream",
     "text": [
      "taxis has 6433 rows and to_ozone has 1 row\n"
     ]
    }
   ],
   "source": [
    "taxis = sns.load_dataset(\"taxis\")\n",
    "to_ozone = taxis[taxis[\"dropoff_zone\"] == \"Ozone Park\"].copy(deep=True)\n",
    "print(f\"taxis has {len(taxis)} rows and to_ozone has {len(to_ozone)} row\")"
   ]
  },
  {
   "cell_type": "markdown",
   "metadata": {},
   "source": [
    "## pd.merge suffixes\n",
    "\n",
    "The suffixes argument can be used to control the suffix name used when like column names are encountered. Standard is to get an x/y labelling."
   ]
  },
  {
   "cell_type": "code",
   "execution_count": 18,
   "metadata": {},
   "outputs": [
    {
     "data": {
      "text/plain": [
       "Index(['pickup', 'dropoff_x', 'passengers_x', 'distance_x', 'fare_x', 'tip_x',\n",
       "       'tolls_x', 'total_x', 'color_x', 'payment_x', 'pickup_zone_x',\n",
       "       'dropoff_zone_x', 'pickup_borough_x', 'dropoff_borough_x', 'dropoff_y',\n",
       "       'passengers_y', 'distance_y', 'fare_y', 'tip_y', 'tolls_y', 'total_y',\n",
       "       'color_y', 'payment_y', 'pickup_zone_y', 'dropoff_zone_y',\n",
       "       'pickup_borough_y', 'dropoff_borough_y'],\n",
       "      dtype='object')"
      ]
     },
     "execution_count": 18,
     "metadata": {},
     "output_type": "execute_result"
    }
   ],
   "source": [
    "taxis.merge(to_ozone, on=\"pickup\").columns"
   ]
  },
  {
   "cell_type": "code",
   "execution_count": 19,
   "metadata": {},
   "outputs": [
    {
     "data": {
      "text/plain": [
       "Index(['pickup', 'dropoff_taxis', 'passengers_taxis', 'distance_taxis',\n",
       "       'fare_taxis', 'tip_taxis', 'tolls_taxis', 'total_taxis', 'color_taxis',\n",
       "       'payment_taxis', 'pickup_zone_taxis', 'dropoff_zone_taxis',\n",
       "       'pickup_borough_taxis', 'dropoff_borough_taxis', 'dropoff_to_ozone',\n",
       "       'passengers_to_ozone', 'distance_to_ozone', 'fare_to_ozone',\n",
       "       'tip_to_ozone', 'tolls_to_ozone', 'total_to_ozone', 'color_to_ozone',\n",
       "       'payment_to_ozone', 'pickup_zone_to_ozone', 'dropoff_zone_to_ozone',\n",
       "       'pickup_borough_to_ozone', 'dropoff_borough_to_ozone'],\n",
       "      dtype='object')"
      ]
     },
     "execution_count": 19,
     "metadata": {},
     "output_type": "execute_result"
    }
   ],
   "source": [
    "taxis.merge(to_ozone, on=\"pickup\", suffixes=(\"_taxis\", \"_to_ozone\")).columns"
   ]
  },
  {
   "cell_type": "code",
   "execution_count": null,
   "metadata": {},
   "outputs": [],
   "source": []
  }
 ],
 "metadata": {
  "kernelspec": {
   "display_name": "py-pandas",
   "language": "python",
   "name": "python3"
  },
  "language_info": {
   "codemirror_mode": {
    "name": "ipython",
    "version": 3
   },
   "file_extension": ".py",
   "mimetype": "text/x-python",
   "name": "python",
   "nbconvert_exporter": "python",
   "pygments_lexer": "ipython3",
   "version": "3.10.12"
  },
  "orig_nbformat": 4
 },
 "nbformat": 4,
 "nbformat_minor": 2
}
