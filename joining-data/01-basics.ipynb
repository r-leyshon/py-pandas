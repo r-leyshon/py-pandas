{
 "cells": [
  {
   "cell_type": "markdown",
   "metadata": {},
   "source": [
    "# Basic Joins\n",
    "\n",
    "## Data Preparation\n",
    "Working with joins, we need 2 DFs, so here I'm taking a tuny known slice from the taxis dataset to play about with."
   ]
  },
  {
   "cell_type": "code",
   "execution_count": 22,
   "metadata": {},
   "outputs": [],
   "source": [
    "import seaborn as sns\n",
    "import pandas as pd\n",
    "from pyprojroot import here"
   ]
  },
  {
   "cell_type": "code",
   "execution_count": 15,
   "metadata": {},
   "outputs": [
    {
     "name": "stdout",
     "output_type": "stream",
     "text": [
      "taxis has 6433 rows and to_ozone has 1 row\n"
     ]
    }
   ],
   "source": [
    "taxis = sns.load_dataset(\"taxis\")\n",
    "to_ozone = taxis[taxis[\"dropoff_zone\"] == \"Ozone Park\"].copy(deep=True)\n",
    "print(f\"taxis has {len(taxis)} rows and to_ozone has {len(to_ozone)} row\")"
   ]
  },
  {
   "cell_type": "markdown",
   "metadata": {},
   "source": [
    "## pd.merge suffixes\n",
    "\n",
    "The suffixes argument can be used to control the suffix name used when like column names are encountered. Standard is to get an x/y labelling."
   ]
  },
  {
   "cell_type": "code",
   "execution_count": 18,
   "metadata": {},
   "outputs": [
    {
     "data": {
      "text/plain": [
       "Index(['pickup', 'dropoff_x', 'passengers_x', 'distance_x', 'fare_x', 'tip_x',\n",
       "       'tolls_x', 'total_x', 'color_x', 'payment_x', 'pickup_zone_x',\n",
       "       'dropoff_zone_x', 'pickup_borough_x', 'dropoff_borough_x', 'dropoff_y',\n",
       "       'passengers_y', 'distance_y', 'fare_y', 'tip_y', 'tolls_y', 'total_y',\n",
       "       'color_y', 'payment_y', 'pickup_zone_y', 'dropoff_zone_y',\n",
       "       'pickup_borough_y', 'dropoff_borough_y'],\n",
       "      dtype='object')"
      ]
     },
     "execution_count": 18,
     "metadata": {},
     "output_type": "execute_result"
    }
   ],
   "source": [
    "taxis.merge(to_ozone, on=\"pickup\").columns"
   ]
  },
  {
   "cell_type": "code",
   "execution_count": 19,
   "metadata": {},
   "outputs": [
    {
     "data": {
      "text/plain": [
       "Index(['pickup', 'dropoff_taxis', 'passengers_taxis', 'distance_taxis',\n",
       "       'fare_taxis', 'tip_taxis', 'tolls_taxis', 'total_taxis', 'color_taxis',\n",
       "       'payment_taxis', 'pickup_zone_taxis', 'dropoff_zone_taxis',\n",
       "       'pickup_borough_taxis', 'dropoff_borough_taxis', 'dropoff_to_ozone',\n",
       "       'passengers_to_ozone', 'distance_to_ozone', 'fare_to_ozone',\n",
       "       'tip_to_ozone', 'tolls_to_ozone', 'total_to_ozone', 'color_to_ozone',\n",
       "       'payment_to_ozone', 'pickup_zone_to_ozone', 'dropoff_zone_to_ozone',\n",
       "       'pickup_borough_to_ozone', 'dropoff_borough_to_ozone'],\n",
       "      dtype='object')"
      ]
     },
     "execution_count": 19,
     "metadata": {},
     "output_type": "execute_result"
    }
   ],
   "source": [
    "taxis.merge(to_ozone, on=\"pickup\", suffixes=(\"_taxis\", \"_to_ozone\")).columns"
   ]
  },
  {
   "cell_type": "markdown",
   "metadata": {},
   "source": [
    "***\n",
    "## Kaggle Relational Data\n",
    "\n",
    "[Social media data](https://www.kaggle.com/datasets/iqbalrony/relational-data-engineering?resource=download) comprising of:\n",
    "\n",
    "* friends_table \n",
    "* posts_table\n",
    "* reactions_table\n",
    "* user_table\n",
    "\n",
    "This will be used to exemplify a more complex join on **several tables** and including **several keys**.\n"
   ]
  },
  {
   "cell_type": "code",
   "execution_count": 35,
   "metadata": {},
   "outputs": [
    {
     "data": {
      "text/html": [
       "<div>\n",
       "<style scoped>\n",
       "    .dataframe tbody tr th:only-of-type {\n",
       "        vertical-align: middle;\n",
       "    }\n",
       "\n",
       "    .dataframe tbody tr th {\n",
       "        vertical-align: top;\n",
       "    }\n",
       "\n",
       "    .dataframe thead th {\n",
       "        text-align: right;\n",
       "    }\n",
       "</style>\n",
       "<table border=\"1\" class=\"dataframe\">\n",
       "  <thead>\n",
       "    <tr style=\"text-align: right;\">\n",
       "      <th></th>\n",
       "      <th>Surname</th>\n",
       "      <th>Name</th>\n",
       "      <th>Age</th>\n",
       "      <th>Subscription Date</th>\n",
       "      <th>user_id</th>\n",
       "    </tr>\n",
       "  </thead>\n",
       "  <tbody>\n",
       "    <tr>\n",
       "      <th>995</th>\n",
       "      <td>Kirk</td>\n",
       "      <td>Lee</td>\n",
       "      <td>19</td>\n",
       "      <td>1588160246</td>\n",
       "      <td>996</td>\n",
       "    </tr>\n",
       "    <tr>\n",
       "      <th>996</th>\n",
       "      <td>Pomme</td>\n",
       "      <td>Franz</td>\n",
       "      <td>40</td>\n",
       "      <td>1588159625</td>\n",
       "      <td>997</td>\n",
       "    </tr>\n",
       "    <tr>\n",
       "      <th>997</th>\n",
       "      <td>Gwahsi</td>\n",
       "      <td>Thomas</td>\n",
       "      <td>40</td>\n",
       "      <td>1588165504</td>\n",
       "      <td>998</td>\n",
       "    </tr>\n",
       "    <tr>\n",
       "      <th>998</th>\n",
       "      <td>Beierlorzer</td>\n",
       "      <td>Jean-Luc</td>\n",
       "      <td>32</td>\n",
       "      <td>1588151074</td>\n",
       "      <td>999</td>\n",
       "    </tr>\n",
       "    <tr>\n",
       "      <th>999</th>\n",
       "      <td>Thronton</td>\n",
       "      <td>Franz</td>\n",
       "      <td>28</td>\n",
       "      <td>1588171183</td>\n",
       "      <td>1000</td>\n",
       "    </tr>\n",
       "  </tbody>\n",
       "</table>\n",
       "</div>"
      ],
      "text/plain": [
       "         Surname      Name  Age  Subscription Date  user_id\n",
       "995         Kirk       Lee   19         1588160246      996\n",
       "996        Pomme     Franz   40         1588159625      997\n",
       "997       Gwahsi    Thomas   40         1588165504      998\n",
       "998  Beierlorzer  Jean-Luc   32         1588151074      999\n",
       "999     Thronton     Franz   28         1588171183     1000"
      ]
     },
     "execution_count": 35,
     "metadata": {},
     "output_type": "execute_result"
    }
   ],
   "source": [
    "users = pd.read_csv(here(\"data/kaggle-data/user_table.csv\"))\n",
    "reactions = pd.read_csv(here(\"data/kaggle-data/reactions_table.csv\"))\n",
    "posts = pd.read_csv(here(\"data/kaggle-data/posts_table.csv\"))\n",
    "# users.head()\n",
    "# len(users)\n",
    "# users table requires a user_id column...\n",
    "users[\"user_id\"] = range(1, len(users)+1)"
   ]
  },
  {
   "cell_type": "markdown",
   "metadata": {},
   "source": [
    "### Count reactions to posts\n",
    "\n",
    "Return counts of reactions to posts made by each user on each date. This exemplifies merging several tables."
   ]
  },
  {
   "cell_type": "code",
   "execution_count": 53,
   "metadata": {},
   "outputs": [
    {
     "data": {
      "text/html": [
       "<div>\n",
       "<style scoped>\n",
       "    .dataframe tbody tr th:only-of-type {\n",
       "        vertical-align: middle;\n",
       "    }\n",
       "\n",
       "    .dataframe tbody tr th {\n",
       "        vertical-align: top;\n",
       "    }\n",
       "\n",
       "    .dataframe thead th {\n",
       "        text-align: right;\n",
       "    }\n",
       "</style>\n",
       "<table border=\"1\" class=\"dataframe\">\n",
       "  <thead>\n",
       "    <tr style=\"text-align: right;\">\n",
       "      <th></th>\n",
       "      <th></th>\n",
       "      <th>Reaction Type</th>\n",
       "    </tr>\n",
       "    <tr>\n",
       "      <th>User</th>\n",
       "      <th>Post Date</th>\n",
       "      <th></th>\n",
       "    </tr>\n",
       "  </thead>\n",
       "  <tbody>\n",
       "    <tr>\n",
       "      <th>465</th>\n",
       "      <th>1588163323</th>\n",
       "      <td>226</td>\n",
       "    </tr>\n",
       "    <tr>\n",
       "      <th rowspan=\"4\" valign=\"top\">642</th>\n",
       "      <th>1588162733</th>\n",
       "      <td>217</td>\n",
       "    </tr>\n",
       "    <tr>\n",
       "      <th>1588163391</th>\n",
       "      <td>217</td>\n",
       "    </tr>\n",
       "    <tr>\n",
       "      <th>1588163484</th>\n",
       "      <td>217</td>\n",
       "    </tr>\n",
       "    <tr>\n",
       "      <th>1588163543</th>\n",
       "      <td>217</td>\n",
       "    </tr>\n",
       "  </tbody>\n",
       "</table>\n",
       "</div>"
      ],
      "text/plain": [
       "                 Reaction Type\n",
       "User Post Date                \n",
       "465  1588163323            226\n",
       "642  1588162733            217\n",
       "     1588163391            217\n",
       "     1588163484            217\n",
       "     1588163543            217"
      ]
     },
     "execution_count": 53,
     "metadata": {},
     "output_type": "execute_result"
    }
   ],
   "source": [
    "user_post_react = users.merge(posts, left_on=\"user_id\", right_on=\"User\")\\\n",
    "    .merge(reactions, on=\"User\")\n",
    "user_post_react.groupby([\"User\", \"Post Date\"]).agg({\"Reaction Type\" : \"count\"})\\\n",
    "    .sort_values(by=[\"Reaction Type\", \"User\"], ascending=[False, True]).head()"
   ]
  },
  {
   "cell_type": "code",
   "execution_count": null,
   "metadata": {},
   "outputs": [],
   "source": []
  }
 ],
 "metadata": {
  "kernelspec": {
   "display_name": "py-pandas",
   "language": "python",
   "name": "python3"
  },
  "language_info": {
   "codemirror_mode": {
    "name": "ipython",
    "version": 3
   },
   "file_extension": ".py",
   "mimetype": "text/x-python",
   "name": "python",
   "nbconvert_exporter": "python",
   "pygments_lexer": "ipython3",
   "version": "3.10.12"
  },
  "orig_nbformat": 4
 },
 "nbformat": 4,
 "nbformat_minor": 2
}
