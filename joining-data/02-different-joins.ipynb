{
 "cells": [
  {
   "cell_type": "markdown",
   "metadata": {},
   "source": [
    "# Different Joins\n",
    "\n",
    "By default, pandas merge executes an inner join. Specify a different join with the `how` parameter."
   ]
  },
  {
   "cell_type": "code",
   "execution_count": 1,
   "metadata": {},
   "outputs": [],
   "source": [
    "import pandas as pd\n",
    "from pyprojroot import here"
   ]
  },
  {
   "cell_type": "code",
   "execution_count": 7,
   "metadata": {},
   "outputs": [],
   "source": [
    "users = pd.read_csv(here(\"data/kaggle-data/user_table.csv\"))\n",
    "reactions = pd.read_csv(here(\"data/kaggle-data/reactions_table.csv\"))\n",
    "users[\"User\"] = range(1, len(users)+1)"
   ]
  },
  {
   "cell_type": "code",
   "execution_count": 34,
   "metadata": {},
   "outputs": [
    {
     "name": "stdout",
     "output_type": "stream",
     "text": [
      "Number of rows on an inner join: 14,042\n",
      "Number of rows on a left join: 26,365\n"
     ]
    }
   ],
   "source": [
    "print(f\"Number of rows on an inner join: {len(users.merge(reactions, on='User')):,}\")\n",
    "print(f\"Number of rows on a left join: {len(users.merge(reactions, on='User', how='right')):,}\")\n"
   ]
  },
  {
   "cell_type": "markdown",
   "metadata": {},
   "source": [
    "## Check Join Integrity with outer join\n",
    "***\n",
    "\n",
    "Count nulls in the table after performing an outer join to get an idea of unmatched IDs. "
   ]
  },
  {
   "cell_type": "code",
   "execution_count": 36,
   "metadata": {},
   "outputs": [
    {
     "data": {
      "text/html": [
       "<div>\n",
       "<style scoped>\n",
       "    .dataframe tbody tr th:only-of-type {\n",
       "        vertical-align: middle;\n",
       "    }\n",
       "\n",
       "    .dataframe tbody tr th {\n",
       "        vertical-align: top;\n",
       "    }\n",
       "\n",
       "    .dataframe thead th {\n",
       "        text-align: right;\n",
       "    }\n",
       "</style>\n",
       "<table border=\"1\" class=\"dataframe\">\n",
       "  <thead>\n",
       "    <tr style=\"text-align: right;\">\n",
       "      <th></th>\n",
       "      <th>Surname</th>\n",
       "      <th>Name</th>\n",
       "      <th>Age</th>\n",
       "      <th>Subscription Date</th>\n",
       "      <th>User</th>\n",
       "      <th>Reaction Type</th>\n",
       "      <th>Reaction Date</th>\n",
       "    </tr>\n",
       "  </thead>\n",
       "  <tbody>\n",
       "    <tr>\n",
       "      <th>0</th>\n",
       "      <td>Smith</td>\n",
       "      <td>Sarah</td>\n",
       "      <td>30.0</td>\n",
       "      <td>1.588157e+09</td>\n",
       "      <td>1</td>\n",
       "      <td>NaN</td>\n",
       "      <td>NaN</td>\n",
       "    </tr>\n",
       "    <tr>\n",
       "      <th>1</th>\n",
       "      <td>Picard</td>\n",
       "      <td>Francine</td>\n",
       "      <td>32.0</td>\n",
       "      <td>1.588162e+09</td>\n",
       "      <td>2</td>\n",
       "      <td>NaN</td>\n",
       "      <td>NaN</td>\n",
       "    </tr>\n",
       "    <tr>\n",
       "      <th>2</th>\n",
       "      <td>Roth</td>\n",
       "      <td>Hans</td>\n",
       "      <td>40.0</td>\n",
       "      <td>1.588157e+09</td>\n",
       "      <td>3</td>\n",
       "      <td>NaN</td>\n",
       "      <td>NaN</td>\n",
       "    </tr>\n",
       "    <tr>\n",
       "      <th>3</th>\n",
       "      <td>Pomme</td>\n",
       "      <td>Ali</td>\n",
       "      <td>28.0</td>\n",
       "      <td>1.588166e+09</td>\n",
       "      <td>4</td>\n",
       "      <td>NaN</td>\n",
       "      <td>NaN</td>\n",
       "    </tr>\n",
       "    <tr>\n",
       "      <th>4</th>\n",
       "      <td>Di Lillo</td>\n",
       "      <td>Jordi</td>\n",
       "      <td>42.0</td>\n",
       "      <td>1.588156e+09</td>\n",
       "      <td>5</td>\n",
       "      <td>NaN</td>\n",
       "      <td>NaN</td>\n",
       "    </tr>\n",
       "    <tr>\n",
       "      <th>...</th>\n",
       "      <td>...</td>\n",
       "      <td>...</td>\n",
       "      <td>...</td>\n",
       "      <td>...</td>\n",
       "      <td>...</td>\n",
       "      <td>...</td>\n",
       "      <td>...</td>\n",
       "    </tr>\n",
       "    <tr>\n",
       "      <th>27235</th>\n",
       "      <td>NaN</td>\n",
       "      <td>NaN</td>\n",
       "      <td>NaN</td>\n",
       "      <td>NaN</td>\n",
       "      <td>7816</td>\n",
       "      <td>Like</td>\n",
       "      <td>1.588166e+09</td>\n",
       "    </tr>\n",
       "    <tr>\n",
       "      <th>27236</th>\n",
       "      <td>NaN</td>\n",
       "      <td>NaN</td>\n",
       "      <td>NaN</td>\n",
       "      <td>NaN</td>\n",
       "      <td>7816</td>\n",
       "      <td>Like</td>\n",
       "      <td>1.588168e+09</td>\n",
       "    </tr>\n",
       "    <tr>\n",
       "      <th>27237</th>\n",
       "      <td>NaN</td>\n",
       "      <td>NaN</td>\n",
       "      <td>NaN</td>\n",
       "      <td>NaN</td>\n",
       "      <td>7816</td>\n",
       "      <td>Emoticon</td>\n",
       "      <td>1.588165e+09</td>\n",
       "    </tr>\n",
       "    <tr>\n",
       "      <th>27238</th>\n",
       "      <td>NaN</td>\n",
       "      <td>NaN</td>\n",
       "      <td>NaN</td>\n",
       "      <td>NaN</td>\n",
       "      <td>7816</td>\n",
       "      <td>Like</td>\n",
       "      <td>1.588167e+09</td>\n",
       "    </tr>\n",
       "    <tr>\n",
       "      <th>27239</th>\n",
       "      <td>NaN</td>\n",
       "      <td>NaN</td>\n",
       "      <td>NaN</td>\n",
       "      <td>NaN</td>\n",
       "      <td>7816</td>\n",
       "      <td>Comment</td>\n",
       "      <td>1.588164e+09</td>\n",
       "    </tr>\n",
       "  </tbody>\n",
       "</table>\n",
       "<p>27240 rows × 7 columns</p>\n",
       "</div>"
      ],
      "text/plain": [
       "        Surname      Name   Age  Subscription Date  User Reaction Type  \\\n",
       "0         Smith     Sarah  30.0       1.588157e+09     1           NaN   \n",
       "1        Picard  Francine  32.0       1.588162e+09     2           NaN   \n",
       "2          Roth      Hans  40.0       1.588157e+09     3           NaN   \n",
       "3         Pomme       Ali  28.0       1.588166e+09     4           NaN   \n",
       "4      Di Lillo     Jordi  42.0       1.588156e+09     5           NaN   \n",
       "...         ...       ...   ...                ...   ...           ...   \n",
       "27235       NaN       NaN   NaN                NaN  7816          Like   \n",
       "27236       NaN       NaN   NaN                NaN  7816          Like   \n",
       "27237       NaN       NaN   NaN                NaN  7816      Emoticon   \n",
       "27238       NaN       NaN   NaN                NaN  7816          Like   \n",
       "27239       NaN       NaN   NaN                NaN  7816       Comment   \n",
       "\n",
       "       Reaction Date  \n",
       "0                NaN  \n",
       "1                NaN  \n",
       "2                NaN  \n",
       "3                NaN  \n",
       "4                NaN  \n",
       "...              ...  \n",
       "27235   1.588166e+09  \n",
       "27236   1.588168e+09  \n",
       "27237   1.588165e+09  \n",
       "27238   1.588167e+09  \n",
       "27239   1.588164e+09  \n",
       "\n",
       "[27240 rows x 7 columns]"
      ]
     },
     "execution_count": 36,
     "metadata": {},
     "output_type": "execute_result"
    }
   ],
   "source": [
    "user_react = users.merge(reactions, on=\"User\", how=\"outer\")\n",
    "user_react"
   ]
  },
  {
   "cell_type": "code",
   "execution_count": 41,
   "metadata": {},
   "outputs": [
    {
     "name": "stdout",
     "output_type": "stream",
     "text": [
      "48.5 % of rows were unmatched in this join.\n"
     ]
    }
   ],
   "source": [
    "mismatches = (user_react[\"Name\"].isnull() | user_react[\"Reaction Type\"].isnull())\n",
    "mismatches.sum()\n",
    "print(f\"{round(mismatches.sum() / len(user_react) * 100, 1)} % of rows were unmatched in this join.\")"
   ]
  },
  {
   "cell_type": "markdown",
   "metadata": {},
   "source": []
  }
 ],
 "metadata": {
  "kernelspec": {
   "display_name": "py-pandas",
   "language": "python",
   "name": "python3"
  },
  "language_info": {
   "codemirror_mode": {
    "name": "ipython",
    "version": 3
   },
   "file_extension": ".py",
   "mimetype": "text/x-python",
   "name": "python",
   "nbconvert_exporter": "python",
   "pygments_lexer": "ipython3",
   "version": "3.10.12"
  },
  "orig_nbformat": 4
 },
 "nbformat": 4,
 "nbformat_minor": 2
}
