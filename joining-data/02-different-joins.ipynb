{
 "cells": [
  {
   "cell_type": "markdown",
   "metadata": {},
   "source": [
    "# Different Joins\n",
    "\n",
    "By default, pandas merge executes an inner join. Specify a different join with the `how` parameter."
   ]
  },
  {
   "cell_type": "code",
   "execution_count": 1,
   "metadata": {},
   "outputs": [],
   "source": [
    "import pandas as pd\n",
    "from pyprojroot import here"
   ]
  },
  {
   "cell_type": "code",
   "execution_count": 7,
   "metadata": {},
   "outputs": [],
   "source": [
    "users = pd.read_csv(here(\"data/kaggle-data/user_table.csv\"))\n",
    "reactions = pd.read_csv(here(\"data/kaggle-data/reactions_table.csv\"))\n",
    "users[\"User\"] = range(1, len(users)+1)"
   ]
  },
  {
   "cell_type": "code",
   "execution_count": 34,
   "metadata": {},
   "outputs": [
    {
     "name": "stdout",
     "output_type": "stream",
     "text": [
      "Number of rows on an inner join: 14,042\n",
      "Number of rows on a left join: 26,365\n"
     ]
    }
   ],
   "source": [
    "print(f\"Number of rows on an inner join: {len(users.merge(reactions, on='User')):,}\")\n",
    "print(f\"Number of rows on a left join: {len(users.merge(reactions, on='User', how='right')):,}\")\n"
   ]
  }
 ],
 "metadata": {
  "kernelspec": {
   "display_name": "py-pandas",
   "language": "python",
   "name": "python3"
  },
  "language_info": {
   "codemirror_mode": {
    "name": "ipython",
    "version": 3
   },
   "file_extension": ".py",
   "mimetype": "text/x-python",
   "name": "python",
   "nbconvert_exporter": "python",
   "pygments_lexer": "ipython3",
   "version": "3.10.12"
  },
  "orig_nbformat": 4
 },
 "nbformat": 4,
 "nbformat_minor": 2
}
